{
  "nbformat": 4,
  "nbformat_minor": 0,
  "metadata": {
    "colab": {
      "name": "Untitled8.ipynb",
      "provenance": [],
      "collapsed_sections": [],
      "authorship_tag": "ABX9TyP4ZGkEf4D2aduQH4vQ25Ur",
      "include_colab_link": true
    },
    "kernelspec": {
      "name": "python3",
      "display_name": "Python 3"
    },
    "language_info": {
      "name": "python"
    }
  },
  "cells": [
    {
      "cell_type": "markdown",
      "metadata": {
        "id": "view-in-github",
        "colab_type": "text"
      },
      "source": [
        "<a href=\"https://colab.research.google.com/github/dewhitee/ml/blob/main/Untitled8.ipynb\" target=\"_parent\"><img src=\"https://colab.research.google.com/assets/colab-badge.svg\" alt=\"Open In Colab\"/></a>"
      ]
    },
    {
      "cell_type": "code",
      "metadata": {
        "id": "pKbBMhv3I2DL"
      },
      "source": [
        "import numpy as np\n",
        "import matplotlib.pyplot as plt\n",
        "from sklearn import linear_model\n",
        "from scipy.special import expit # logistical curve\n",
        "from sklearn.tree import DecisionTreeClassifier"
      ],
      "execution_count": null,
      "outputs": []
    },
    {
      "cell_type": "code",
      "metadata": {
        "id": "Hvg3xRmkL9BL"
      },
      "source": [
        "x = np.random.normal(size=100) \n",
        "# larger 0 = cat, less = not cat\n",
        "y = (x > 0).astype(np.float) # assigning classes\n",
        "x[x > 0] *= 5. # add shift to x's\n",
        "x += 0.3 * np.random.normal(size=100) # add noise\n",
        "# adding new axis to transform list to numpy array as we need numpy array to work with expit\n",
        "#print(x[:5])\n",
        "x = x[:, np.newaxis]\n",
        "#print(x)"
      ],
      "execution_count": null,
      "outputs": []
    },
    {
      "cell_type": "code",
      "metadata": {
        "colab": {
          "base_uri": "https://localhost:8080/",
          "height": 265
        },
        "id": "shPVQTxFMuOc",
        "outputId": "b98961a7-717c-4641-d920-7f53003a44d2"
      },
      "source": [
        "plt.scatter(x, y)\n",
        "plt.grid()\n",
        "#plt.show()"
      ],
      "execution_count": null,
      "outputs": [
        {
          "output_type": "display_data",
          "data": {
            "image/png": "[encoded data removed]",
            "text/plain": [
              "<Figure size 432x288 with 1 Axes>"
            ]
          },
          "metadata": {
            "tags": [],
            "needs_background": "light"
          }
        }
      ]
    },
    {
      "cell_type": "code",
      "metadata": {
        "colab": {
          "base_uri": "https://localhost:8080/"
        },
        "id": "-Ldn060JNAsZ",
        "outputId": "2f86bc03-7feb-4ad5-a29d-d55705772caa"
      },
      "source": [
        "models = [DecisionTreeClassifier, linear_model.LogisticRegression]\n",
        "\n",
        "for i in range(len(models)):\n",
        "    clf = models[i]()\n",
        "    clf.fit(x, y)\n",
        "    print('Accuracy: ', clf.score(x, y))\n",
        "\n",
        "## machine learning - creating classificator\n",
        "#clf = linear_model.LogisticRegression()\n",
        "## training\n",
        "#clf.fit(x, y)"
      ],
      "execution_count": null,
      "outputs": [
        {
          "output_type": "stream",
          "text": [
            "Accuracy:  1.0\n",
            "Accuracy:  0.97\n"
          ],
          "name": "stdout"
        }
      ]
    },
    {
      "cell_type": "code",
      "metadata": {
        "colab": {
          "base_uri": "https://localhost:8080/"
        },
        "id": "vmuNv8RgNhhW",
        "outputId": "0492d5c8-6c41-4b59-c355-960ff0b25191"
      },
      "source": [
        "print('Accuracy: ', clf.score(x, y))"
      ],
      "execution_count": null,
      "outputs": [
        {
          "output_type": "stream",
          "text": [
            "Accuracy:  0.97\n"
          ],
          "name": "stdout"
        }
      ]
    },
    {
      "cell_type": "code",
      "metadata": {
        "colab": {
          "base_uri": "https://localhost:8080/",
          "height": 265
        },
        "id": "g7ZQFd39NmpN",
        "outputId": "18ea83b3-d011-41a2-9ce7-732985d77603"
      },
      "source": [
        "for i in range(len(y)):\n",
        "    if y[i] == 0: # if first class\n",
        "        plt.scatter(x[i], y[i], color='blue')\n",
        "    else: # if second class\n",
        "        plt.scatter(x[i], y[i], color='green')\n",
        "\n",
        "x_span = np.linspace(-4, 8, 200)\n",
        "logReg = (expit(x_span*clf.coef_ + clf.intercept_)).ravel()\n",
        "plt.plot(x_span, logReg, color='red', linewidth=3)\n",
        "plt.grid()\n",
        "plt.show()"
      ],
      "execution_count": null,
      "outputs": [
        {
          "output_type": "display_data",
          "data": {
            "image/png": "[encoded data removed]",
            "text/plain": [
              "<Figure size 432x288 with 1 Axes>"
            ]
          },
          "metadata": {
            "tags": [],
            "needs_background": "light"
          }
        }
      ]
    },
    {
      "cell_type": "code",
      "metadata": {
        "id": "8bG8f8KvOCYm"
      },
      "source": [
        ""
      ],
      "execution_count": null,
      "outputs": []
    }
  ]
}