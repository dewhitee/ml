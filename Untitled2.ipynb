{
  "nbformat": 4,
  "nbformat_minor": 0,
  "metadata": {
    "colab": {
      "name": "Untitled2.ipynb",
      "provenance": [],
      "collapsed_sections": [],
      "authorship_tag": "ABX9TyNrPtd7rkUZicjy4ALgqHRK",
      "include_colab_link": true
    },
    "kernelspec": {
      "name": "python3",
      "display_name": "Python 3"
    }
  },
  "cells": [
    {
      "cell_type": "markdown",
      "metadata": {
        "id": "view-in-github",
        "colab_type": "text"
      },
      "source": [
        "<a href=\"https://colab.research.google.com/github/dewhitee/ml/blob/main/Untitled2.ipynb\" target=\"_parent\"><img src=\"https://colab.research.google.com/assets/colab-badge.svg\" alt=\"Open In Colab\"/></a>"
      ]
    },
    {
      "cell_type": "code",
      "metadata": {
        "id": "dO-q3I3b5taW"
      },
      "source": [
        "import numpy as np"
      ],
      "execution_count": null,
      "outputs": []
    },
    {
      "cell_type": "code",
      "metadata": {
        "colab": {
          "base_uri": "https://localhost:8080/"
        },
        "id": "f8xoZZgf5wRm",
        "outputId": "1a15db56-05d9-4568-aa22-36499b596bc9"
      },
      "source": [
        "array = np.array([[1, 1, 1],\n",
        "                 [2, 2, 2],\n",
        "                 [3, 3, 3]])\n",
        "print(array)"
      ],
      "execution_count": null,
      "outputs": [
        {
          "output_type": "stream",
          "text": [
            "[[1 1 1]\n",
            " [2 2 2]\n",
            " [3 3 3]]\n"
          ],
          "name": "stdout"
        }
      ]
    },
    {
      "cell_type": "code",
      "metadata": {
        "colab": {
          "base_uri": "https://localhost:8080/"
        },
        "id": "nNC2itB858So",
        "outputId": "ef8f0c67-eb2c-4813-af80-4a58ab1a810c"
      },
      "source": [
        "print(np.mean(array[:1]))"
      ],
      "execution_count": null,
      "outputs": [
        {
          "output_type": "stream",
          "text": [
            "1.0\n"
          ],
          "name": "stdout"
        }
      ]
    },
    {
      "cell_type": "code",
      "metadata": {
        "colab": {
          "base_uri": "https://localhost:8080/"
        },
        "id": "32JO3ptc6LfM",
        "outputId": "aab03faa-c914-4a04-b777-905344e4146e"
      },
      "source": [
        "print(np.mean(array[:, 1]))\n",
        "print(np.std(array[:, 1]))"
      ],
      "execution_count": null,
      "outputs": [
        {
          "output_type": "stream",
          "text": [
            "2.0\n",
            "0.816496580927726\n"
          ],
          "name": "stdout"
        }
      ]
    },
    {
      "cell_type": "code",
      "metadata": {
        "id": "n2VbVapp6VuU"
      },
      "source": [
        "norm = np.random.normal(10, 3, 500)\n",
        "# size is 1/lambda\n",
        "exp = np.random.exponential(3, 500)"
      ],
      "execution_count": null,
      "outputs": []
    },
    {
      "cell_type": "code",
      "metadata": {
        "colab": {
          "base_uri": "https://localhost:8080/",
          "height": 282
        },
        "id": "ihXcadh67D93",
        "outputId": "be3bee7e-9d9a-4444-c760-d926cfa590b6"
      },
      "source": [
        "import matplotlib.pyplot as plt\n",
        "\n",
        "plt.hist(norm)\n",
        "plt.grid()\n",
        "plt.xlabel('Values')\n",
        "plt.show()\n",
        "#plt.hist(exp) "
      ],
      "execution_count": null,
      "outputs": [
        {
          "output_type": "display_data",
          "data": {
            "image/png": "[encoded data removed]",
            "text/plain": [
              "<Figure size 432x288 with 1 Axes>"
            ]
          },
          "metadata": {
            "tags": [],
            "needs_background": "light"
          }
        }
      ]
    },
    {
      "cell_type": "code",
      "metadata": {
        "colab": {
          "base_uri": "https://localhost:8080/",
          "height": 265
        },
        "id": "LlPLcTlr7Op7",
        "outputId": "35394275-4cd1-4b6b-b3c9-b35887614b96"
      },
      "source": [
        "plt.hist(exp, color='orange')\n",
        "plt.show()"
      ],
      "execution_count": null,
      "outputs": [
        {
          "output_type": "display_data",
          "data": {
            "image/png": "[encoded data removed]",
            "text/plain": [
              "<Figure size 432x288 with 1 Axes>"
            ]
          },
          "metadata": {
            "tags": [],
            "needs_background": "light"
          }
        }
      ]
    },
    {
      "cell_type": "code",
      "metadata": {
        "id": "EmFgkOQw7VXR"
      },
      "source": [
        "x = np.random.normal(10, 3, 50)\n",
        "y = np.random.exponential(3, 50) # pair or a point"
      ],
      "execution_count": null,
      "outputs": []
    },
    {
      "cell_type": "code",
      "metadata": {
        "colab": {
          "base_uri": "https://localhost:8080/",
          "height": 295
        },
        "id": "zRF-WiAJ8cl7",
        "outputId": "bedb3cf6-91b6-42fa-d58e-7c5eb85694f4"
      },
      "source": [
        "# scatter plot\n",
        "plt.title('Random points')\n",
        "plt.scatter(x, y, color='yellow', s=35, marker='<', label='My yellow triangles')\n",
        "plt.xlabel('Xs')\n",
        "plt.ylabel('Ys')\n",
        "plt.legend()\n",
        "plt.grid()\n",
        "plt.show()"
      ],
      "execution_count": null,
      "outputs": [
        {
          "output_type": "display_data",
          "data": {
            "image/png": "[encoded data removed]",
            "text/plain": [
              "<Figure size 432x288 with 1 Axes>"
            ]
          },
          "metadata": {
            "tags": [],
            "needs_background": "light"
          }
        }
      ]
    },
    {
      "cell_type": "code",
      "metadata": {
        "colab": {
          "base_uri": "https://localhost:8080/",
          "height": 265
        },
        "id": "WtwZM65H8iNk",
        "outputId": "616a9e74-c866-4eb3-a7d1-be1a249dadea"
      },
      "source": [
        "xs = np.linspace(-5, 5, 500)\n",
        "ys = xs**2\n",
        "plt.plot(xs, ys, linewidth=6, label='Parabola')\n",
        "plt.legend()\n",
        "plt.show()"
      ],
      "execution_count": null,
      "outputs": [
        {
          "output_type": "display_data",
          "data": {
            "image/png": "[encoded data removed]",
            "text/plain": [
              "<Figure size 432x288 with 1 Axes>"
            ]
          },
          "metadata": {
            "tags": [],
            "needs_background": "light"
          }
        }
      ]
    },
    {
      "cell_type": "code",
      "metadata": {
        "id": "nOLI84jP99Gw"
      },
      "source": [
        ""
      ],
      "execution_count": null,
      "outputs": []
    }
  ]
}