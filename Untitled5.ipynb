{
  "nbformat": 4,
  "nbformat_minor": 0,
  "metadata": {
    "colab": {
      "name": "Untitled5.ipynb",
      "provenance": [],
      "collapsed_sections": [],
      "authorship_tag": "ABX9TyNaTw/2y1aHTVl7RqowK2VF",
      "include_colab_link": true
    },
    "kernelspec": {
      "name": "python3",
      "display_name": "Python 3"
    }
  },
  "cells": [
    {
      "cell_type": "markdown",
      "metadata": {
        "id": "view-in-github",
        "colab_type": "text"
      },
      "source": [
        "<a href=\"https://colab.research.google.com/github/dewhitee/ml/blob/main/Untitled5.ipynb\" target=\"_parent\"><img src=\"https://colab.research.google.com/assets/colab-badge.svg\" alt=\"Open In Colab\"/></a>"
      ]
    },
    {
      "cell_type": "code",
      "metadata": {
        "id": "mxEKAYNaJG5I"
      },
      "source": [
        "import numpy as np\n",
        "import matplotlib.pyplot as plt\n",
        "from sklearn.model_selection import train_test_split"
      ],
      "execution_count": null,
      "outputs": []
    },
    {
      "cell_type": "code",
      "metadata": {
        "id": "CLjdj8pUJM0u"
      },
      "source": [
        "red = np.genfromtxt('winequality-red.csv', delimiter=';', skip_header=1)"
      ],
      "execution_count": null,
      "outputs": []
    },
    {
      "cell_type": "code",
      "metadata": {
        "colab": {
          "base_uri": "https://localhost:8080/"
        },
        "id": "G_36hXonJNlv",
        "outputId": "b0648b8a-d4b3-4104-99c0-a4d02f1641b7"
      },
      "source": [
        "print(red[:5])"
      ],
      "execution_count": null,
      "outputs": [
        {
          "output_type": "stream",
          "text": [
            "[[7.400e+00 7.000e-01 0.000e+00 1.900e+00 7.600e-02 1.100e+01 3.400e+01\n",
            "  9.978e-01 3.510e+00 5.600e-01 9.400e+00 5.000e+00]\n",
            " [7.800e+00 8.800e-01 0.000e+00 2.600e+00 9.800e-02 2.500e+01 6.700e+01\n",
            "  9.968e-01 3.200e+00 6.800e-01 9.800e+00 5.000e+00]\n",
            " [7.800e+00 7.600e-01 4.000e-02 2.300e+00 9.200e-02 1.500e+01 5.400e+01\n",
            "  9.970e-01 3.260e+00 6.500e-01 9.800e+00 5.000e+00]\n",
            " [1.120e+01 2.800e-01 5.600e-01 1.900e+00 7.500e-02 1.700e+01 6.000e+01\n",
            "  9.980e-01 3.160e+00 5.800e-01 9.800e+00 6.000e+00]\n",
            " [7.400e+00 7.000e-01 0.000e+00 1.900e+00 7.600e-02 1.100e+01 3.400e+01\n",
            "  9.978e-01 3.510e+00 5.600e-01 9.400e+00 5.000e+00]]\n"
          ],
          "name": "stdout"
        }
      ]
    },
    {
      "cell_type": "code",
      "metadata": {
        "colab": {
          "base_uri": "https://localhost:8080/"
        },
        "id": "84lXrQJFJOdh",
        "outputId": "a38648f2-e832-4fee-c607-65bfa9dcbbc0"
      },
      "source": [
        "n, m = red.shape\n",
        "print('Number of observations:', n)"
      ],
      "execution_count": null,
      "outputs": [
        {
          "output_type": "stream",
          "text": [
            "Number of observations: 1599\n"
          ],
          "name": "stdout"
        }
      ]
    },
    {
      "cell_type": "code",
      "metadata": {
        "id": "APX8XBxRJhdy"
      },
      "source": [
        "white = np.genfromtxt('winequality-white.csv', delimiter=';', skip_header=1)"
      ],
      "execution_count": null,
      "outputs": []
    },
    {
      "cell_type": "code",
      "metadata": {
        "colab": {
          "base_uri": "https://localhost:8080/"
        },
        "id": "A1f5jixPJ-Mc",
        "outputId": "0b300f07-de9c-45aa-a65b-725a349b90df"
      },
      "source": [
        "n, m = white.shape\n",
        "print('Number of observations:', n)"
      ],
      "execution_count": null,
      "outputs": [
        {
          "output_type": "stream",
          "text": [
            "Number of observations: 4898\n"
          ],
          "name": "stdout"
        }
      ]
    },
    {
      "cell_type": "code",
      "metadata": {
        "colab": {
          "base_uri": "https://localhost:8080/"
        },
        "id": "aIK2_Qr6KBuJ",
        "outputId": "6169f61c-c242-4d26-afc6-a82f2fead854"
      },
      "source": [
        "alldata = np.concatenate((red, white), axis=0)\n",
        "n, m = alldata.shape\n",
        "print(\"Number of observations:\", n)\n",
        "print(\"Number of variables:\", m)"
      ],
      "execution_count": null,
      "outputs": [
        {
          "output_type": "stream",
          "text": [
            "Number of observations: 6497\n",
            "Number of variables: 12\n"
          ],
          "name": "stdout"
        }
      ]
    },
    {
      "cell_type": "code",
      "metadata": {
        "id": "yo9r89b2Kcra"
      },
      "source": [
        "def get_stats(data):\n",
        "    avg = np.mean(data[:, -1])\n",
        "    std = np.std(data[:, -1])\n",
        "    #mode = np.mode(data[:, -1])\n",
        "    median = np.median(data[:, -1])\n",
        "    max = np.max(data[:, -1])\n",
        "    min = np.min(data[:, -1])\n",
        "    print('Average score: ', avg)\n",
        "    print('Standard deviation of the score: ', std)\n",
        "    #print('Mode of the score', mode)\n",
        "    print('Median: ', median)\n",
        "    print('Max: ', max)\n",
        "    print('Min: ', min)"
      ],
      "execution_count": null,
      "outputs": []
    },
    {
      "cell_type": "code",
      "metadata": {
        "colab": {
          "base_uri": "https://localhost:8080/"
        },
        "id": "8lLtdfQYLHby",
        "outputId": "76ecf02e-1e37-4c93-b6ce-255a6ec6e3f3"
      },
      "source": [
        "get_stats(alldata)"
      ],
      "execution_count": null,
      "outputs": [
        {
          "output_type": "stream",
          "text": [
            "Average score:  5.818377712790519\n",
            "Standard deviation of the score:  0.8731880644450568\n",
            "Median:  6.0\n",
            "Max:  9.0\n",
            "Min:  3.0\n"
          ],
          "name": "stdout"
        }
      ]
    },
    {
      "cell_type": "code",
      "metadata": {
        "id": "a13IYrqSKOer",
        "colab": {
          "base_uri": "https://localhost:8080/",
          "height": 265
        },
        "outputId": "49777a39-2fd0-419b-9efb-6c993761b068"
      },
      "source": [
        "plt.hist(alldata[:, -1])\n",
        "plt.show()"
      ],
      "execution_count": null,
      "outputs": [
        {
          "output_type": "display_data",
          "data": {
            "image/png": "[encoded data removed]",
            "text/plain": [
              "<Figure size 432x288 with 1 Axes>"
            ]
          },
          "metadata": {
            "tags": [],
            "needs_background": "light"
          }
        }
      ]
    },
    {
      "cell_type": "code",
      "metadata": {
        "colab": {
          "base_uri": "https://localhost:8080/"
        },
        "id": "ySd_nQsUL_C_",
        "outputId": "ccd3bac2-fe09-4acb-a0ce-2301d028b43b"
      },
      "source": [
        "def compute_corr(x1, x2):\n",
        "    return np.corrcoef(x1, x2)[0, 1]\n",
        "\n",
        "def compute_corr2(data):\n",
        "    for x in range(0, m - 1):\n",
        "        print(np.corrcoef(data[:, x], data[:, -1])[0, 1])\n",
        "\n",
        "#np.corrcoef(alldata)\n",
        "\n",
        "# Correlation between alcohol and acidity\n",
        "print(compute_corr(alldata[:, -1], alldata[:, 2]), \"\\n\\n\")\n",
        "\n",
        "compute_corr2(alldata)"
      ],
      "execution_count": null,
      "outputs": [
        {
          "output_type": "stream",
          "text": [
            "0.08553171718367845 \n",
            "\n",
            "\n",
            "-0.07674320790961986\n",
            "-0.26569947761146784\n",
            "0.08553171718367844\n",
            "-0.036980484585769455\n",
            "-0.20066550043510195\n",
            "0.05546305861663262\n",
            "-0.041385453855608795\n",
            "-0.3058579060694141\n",
            "0.019505703714435902\n",
            "0.038485445876514424\n",
            "0.44431852000765404\n"
          ],
          "name": "stdout"
        }
      ]
    },
    {
      "cell_type": "code",
      "metadata": {
        "colab": {
          "base_uri": "https://localhost:8080/"
        },
        "id": "JLyxWtXDMdqe",
        "outputId": "6412313f-5e4e-4e45-bc22-918082ca5195"
      },
      "source": [
        "# splitting test, training and x, y\n",
        "#training_data = wines[:round(len(wines)*0.75)]\n",
        "#test_data = wines[round(len(wines)*0.75):]\n",
        "\n",
        "splitter = round(n * 0.75)\n",
        "print(splitter)\n",
        "\n",
        "# first step\n",
        "training_data = alldata[:splitter]\n",
        "test_data = alldata[splitter:]\n",
        "\n",
        "# second step\n",
        "y_train = training_data[:, -1]\n",
        "x_train = training_data[:, :m - 1]\n",
        "\n",
        "y_test = test_data[:, -1]\n",
        "x_test = test_data[:, :m - 1]\n",
        "\n",
        "# 2.0\n",
        "train, test = train_test_split(alldata, shuffle=False)"
      ],
      "execution_count": null,
      "outputs": [
        {
          "output_type": "stream",
          "text": [
            "4873\n"
          ],
          "name": "stdout"
        }
      ]
    },
    {
      "cell_type": "code",
      "metadata": {
        "colab": {
          "base_uri": "https://localhost:8080/",
          "height": 214
        },
        "id": "b4gnuB0USprB",
        "outputId": "5fcc1763-02e2-45c4-dcac-05578664964f"
      },
      "source": [
        "# Deleting from dataset\n",
        "print(x_train.shape)\n",
        "x_train = np.delete(x_train, 0, axis=0)\n",
        "print(x_train.shape)"
      ],
      "execution_count": null,
      "outputs": [
        {
          "output_type": "error",
          "ename": "NameError",
          "evalue": "ignored",
          "traceback": [
            "\u001b[0;31m---------------------------------------------------------------------------\u001b[0m",
            "\u001b[0;31mNameError\u001b[0m                                 Traceback (most recent call last)",
            "\u001b[0;32m<ipython-input-1-ff154cf575e4>\u001b[0m in \u001b[0;36m<module>\u001b[0;34m()\u001b[0m\n\u001b[1;32m      1\u001b[0m \u001b[0;31m# Deleting from dataset\u001b[0m\u001b[0;34m\u001b[0m\u001b[0;34m\u001b[0m\u001b[0;34m\u001b[0m\u001b[0m\n\u001b[0;32m----> 2\u001b[0;31m \u001b[0mprint\u001b[0m\u001b[0;34m(\u001b[0m\u001b[0mx_train\u001b[0m\u001b[0;34m.\u001b[0m\u001b[0mshape\u001b[0m\u001b[0;34m)\u001b[0m\u001b[0;34m\u001b[0m\u001b[0;34m\u001b[0m\u001b[0m\n\u001b[0m\u001b[1;32m      3\u001b[0m \u001b[0mx_train\u001b[0m \u001b[0;34m=\u001b[0m \u001b[0mnp\u001b[0m\u001b[0;34m.\u001b[0m\u001b[0mdelete\u001b[0m\u001b[0;34m(\u001b[0m\u001b[0mx_train\u001b[0m\u001b[0;34m,\u001b[0m \u001b[0;36m0\u001b[0m\u001b[0;34m,\u001b[0m \u001b[0maxis\u001b[0m\u001b[0;34m=\u001b[0m\u001b[0;36m0\u001b[0m\u001b[0;34m)\u001b[0m\u001b[0;34m\u001b[0m\u001b[0;34m\u001b[0m\u001b[0m\n\u001b[1;32m      4\u001b[0m \u001b[0mprint\u001b[0m\u001b[0;34m(\u001b[0m\u001b[0mx_train\u001b[0m\u001b[0;34m.\u001b[0m\u001b[0mshape\u001b[0m\u001b[0;34m)\u001b[0m\u001b[0;34m\u001b[0m\u001b[0;34m\u001b[0m\u001b[0m\n",
            "\u001b[0;31mNameError\u001b[0m: name 'x_train' is not defined"
          ]
        }
      ]
    },
    {
      "cell_type": "code",
      "metadata": {
        "id": "uVKAy0wfSoYl"
      },
      "source": [
        "if type(x_train[11, -1]) == not int:\n",
        "    # convert int"
      ],
      "execution_count": null,
      "outputs": []
    },
    {
      "cell_type": "code",
      "metadata": {
        "id": "IiOipHTWPWNl"
      },
      "source": [
        ""
      ],
      "execution_count": null,
      "outputs": []
    }
  ]
}