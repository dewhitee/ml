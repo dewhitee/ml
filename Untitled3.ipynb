{
  "nbformat": 4,
  "nbformat_minor": 0,
  "metadata": {
    "colab": {
      "name": "Untitled3.ipynb",
      "provenance": [],
      "collapsed_sections": [],
      "authorship_tag": "ABX9TyM4g1NT+KKayzm7phXzNKcj",
      "include_colab_link": true
    },
    "kernelspec": {
      "name": "python3",
      "display_name": "Python 3"
    }
  },
  "cells": [
    {
      "cell_type": "markdown",
      "metadata": {
        "id": "view-in-github",
        "colab_type": "text"
      },
      "source": [
        "<a href=\"https://colab.research.google.com/github/dewhitee/ml/blob/main/Untitled3.ipynb\" target=\"_parent\"><img src=\"https://colab.research.google.com/assets/colab-badge.svg\" alt=\"Open In Colab\"/></a>"
      ]
    },
    {
      "cell_type": "code",
      "metadata": {
        "id": "HypEHkbB-VYt"
      },
      "source": [
        "import numpy as np"
      ],
      "execution_count": null,
      "outputs": []
    },
    {
      "cell_type": "code",
      "metadata": {
        "id": "XXIEGZ7x_mvs"
      },
      "source": [
        "rwines = np.genfromtxt('winequality-red.csv', delimiter=';', skip_header=1)"
      ],
      "execution_count": null,
      "outputs": []
    },
    {
      "cell_type": "code",
      "metadata": {
        "colab": {
          "base_uri": "https://localhost:8080/"
        },
        "id": "w_Lsb--RAJNe",
        "outputId": "ca67e8b7-137e-4533-97fc-0a17fa2d3717"
      },
      "source": [
        "print(rwines[:5])"
      ],
      "execution_count": null,
      "outputs": [
        {
          "output_type": "stream",
          "text": [
            "[[7.400e+00 7.000e-01 0.000e+00 1.900e+00 7.600e-02 1.100e+01 3.400e+01\n",
            "  9.978e-01 3.510e+00 5.600e-01 9.400e+00 5.000e+00]\n",
            " [7.800e+00 8.800e-01 0.000e+00 2.600e+00 9.800e-02 2.500e+01 6.700e+01\n",
            "  9.968e-01 3.200e+00 6.800e-01 9.800e+00 5.000e+00]\n",
            " [7.800e+00 7.600e-01 4.000e-02 2.300e+00 9.200e-02 1.500e+01 5.400e+01\n",
            "  9.970e-01 3.260e+00 6.500e-01 9.800e+00 5.000e+00]\n",
            " [1.120e+01 2.800e-01 5.600e-01 1.900e+00 7.500e-02 1.700e+01 6.000e+01\n",
            "  9.980e-01 3.160e+00 5.800e-01 9.800e+00 6.000e+00]\n",
            " [7.400e+00 7.000e-01 0.000e+00 1.900e+00 7.600e-02 1.100e+01 3.400e+01\n",
            "  9.978e-01 3.510e+00 5.600e-01 9.400e+00 5.000e+00]]\n"
          ],
          "name": "stdout"
        }
      ]
    },
    {
      "cell_type": "code",
      "metadata": {
        "colab": {
          "base_uri": "https://localhost:8080/"
        },
        "id": "IKKVqajWAVpu",
        "outputId": "7a159336-6345-4382-b3cd-fc1379dd1449"
      },
      "source": [
        "n, m = rwines.shape\n",
        "print('Number of observations: ', n)\n",
        "print('Number of variables: ', m)"
      ],
      "execution_count": null,
      "outputs": [
        {
          "output_type": "stream",
          "text": [
            "Number of observations:  1599\n",
            "Number of variables:  12\n"
          ],
          "name": "stdout"
        }
      ]
    },
    {
      "cell_type": "code",
      "metadata": {
        "colab": {
          "base_uri": "https://localhost:8080/"
        },
        "id": "l7hYiFjFBGyB",
        "outputId": "509051d4-12b4-46b6-e19e-263c46a2d8cc"
      },
      "source": [
        "print('Average score: ', np.mean(rwines[:, -1]))"
      ],
      "execution_count": null,
      "outputs": [
        {
          "output_type": "stream",
          "text": [
            "Average score:  5.6360225140712945\n"
          ],
          "name": "stdout"
        }
      ]
    },
    {
      "cell_type": "code",
      "metadata": {
        "colab": {
          "base_uri": "https://localhost:8080/",
          "height": 265
        },
        "id": "lXAe1LECBXOD",
        "outputId": "cc058aa4-39b5-488f-ff5c-5644081828be"
      },
      "source": [
        "import matplotlib.pyplot as plt\n",
        "\n",
        "plt.hist(rwines[:, -1])\n",
        "plt.show()"
      ],
      "execution_count": null,
      "outputs": [
        {
          "output_type": "display_data",
          "data": {
            "image/png": "[encoded data removed]",
            "text/plain": [
              "<Figure size 432x288 with 1 Axes>"
            ]
          },
          "metadata": {
            "tags": [],
            "needs_background": "light"
          }
        }
      ]
    },
    {
      "cell_type": "code",
      "metadata": {
        "colab": {
          "base_uri": "https://localhost:8080/",
          "height": 281
        },
        "id": "iHeQMn-wBp2T",
        "outputId": "a2d74b19-7a4b-4216-d661-1a3003e0f0f7"
      },
      "source": [
        "plt.title('Correlation coefficient {}'.format(\n",
        "    np.round(np.corrcoef(rwines[:, -1], rwines[:, -2])[0, 1], 2)))\n",
        "plt.scatter(rwines[:, -1], rwines[:, -2]) #checking scores and alcohol values\n",
        "plt.grid()\n",
        "plt.show()"
      ],
      "execution_count": null,
      "outputs": [
        {
          "output_type": "display_data",
          "data": {
            "image/png": "[encoded data removed]",
            "text/plain": [
              "<Figure size 432x288 with 1 Axes>"
            ]
          },
          "metadata": {
            "tags": [],
            "needs_background": "light"
          }
        }
      ]
    }
  ]
}